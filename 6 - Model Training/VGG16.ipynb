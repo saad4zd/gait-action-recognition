{
 "cells": [
  {
   "cell_type": "markdown",
   "metadata": {},
   "source": [
    "### Importing Libraries"
   ]
  },
  {
   "cell_type": "code",
   "execution_count": 1,
   "metadata": {},
   "outputs": [
    {
     "name": "stderr",
     "output_type": "stream",
     "text": [
      "/home/saad-bscs/.local/lib/python3.10/site-packages/matplotlib/projections/__init__.py:63: UserWarning: Unable to import Axes3D. This may be due to multiple versions of Matplotlib being installed (e.g. as a system package and as a pip package). As a result, the 3D projection is not available.\n",
      "  warnings.warn(\"Unable to import Axes3D. This may be due to multiple versions of \"\n",
      "2023-12-12 02:35:56.920811: I tensorflow/core/util/port.cc:110] oneDNN custom operations are on. You may see slightly different numerical results due to floating-point round-off errors from different computation orders. To turn them off, set the environment variable `TF_ENABLE_ONEDNN_OPTS=0`.\n",
      "2023-12-12 02:35:56.977704: I tensorflow/core/platform/cpu_feature_guard.cc:182] This TensorFlow binary is optimized to use available CPU instructions in performance-critical operations.\n",
      "To enable the following instructions: AVX2 AVX512F AVX512_VNNI FMA, in other operations, rebuild TensorFlow with the appropriate compiler flags.\n",
      "2023-12-12 02:35:57.761283: W tensorflow/compiler/tf2tensorrt/utils/py_utils.cc:38] TF-TRT Warning: Could not find TensorRT\n"
     ]
    }
   ],
   "source": [
    "import os\n",
    "import matplotlib.pyplot as plt\n",
    "from tensorflow.keras.preprocessing.image import ImageDataGenerator\n",
    "from tensorflow.keras.applications import VGG16\n",
    "from tensorflow.keras.layers import (\n",
    "    Dense,\n",
    "    GlobalAveragePooling2D,\n",
    "    BatchNormalization,\n",
    "    Dropout\n",
    ")\n",
    "from tensorflow.keras.losses import CategoricalCrossentropy\n",
    "from tensorflow.keras.regularizers import l2\n",
    "from tensorflow.keras.models import Model\n",
    "from tensorflow.keras.optimizers import RMSprop\n",
    "import tensorflow as tf\n",
    "tf.random.set_seed(42)"
   ]
  },
  {
   "cell_type": "markdown",
   "metadata": {},
   "source": [
    "### Constants"
   ]
  },
  {
   "cell_type": "code",
   "execution_count": 2,
   "metadata": {},
   "outputs": [],
   "source": [
    "img_height, img_width = 128, 128\n",
    "batch_size = 32\n",
    "num_classes = 124\n",
    "data_dir = os.path.join(os.getcwd(), \"gei/\")"
   ]
  },
  {
   "cell_type": "markdown",
   "metadata": {},
   "source": [
    "### Training Data Augmentation"
   ]
  },
  {
   "cell_type": "code",
   "execution_count": 3,
   "metadata": {},
   "outputs": [],
   "source": [
    "train_datagen = ImageDataGenerator(\n",
    "    rescale=1.0 / 255,\n",
    "    validation_split=0.15,\n",
    "    rotation_range=20,\n",
    "    width_shift_range=0.2,\n",
    "    height_shift_range=0.2,\n",
    "    shear_range=0.2,\n",
    "    horizontal_flip=True,\n",
    "    fill_mode=\"nearest\",\n",
    "    brightness_range=[0.8, 1.2],\n",
    "    channel_shift_range=10,\n",
    "    zoom_range=[0.8, 1.2],\n",
    ")"
   ]
  },
  {
   "cell_type": "markdown",
   "metadata": {},
   "source": [
    "### Testing Data Augmentation"
   ]
  },
  {
   "cell_type": "code",
   "execution_count": 4,
   "metadata": {},
   "outputs": [],
   "source": [
    "test_datagen = ImageDataGenerator(rescale=1.0 / 255, validation_split=0.15)"
   ]
  },
  {
   "cell_type": "markdown",
   "metadata": {},
   "source": [
    "### Load and split data into training and testing sets"
   ]
  },
  {
   "cell_type": "code",
   "execution_count": 5,
   "metadata": {},
   "outputs": [
    {
     "name": "stdout",
     "output_type": "stream",
     "text": [
      "Found 11555 images belonging to 124 classes.\n",
      "Found 1967 images belonging to 124 classes.\n"
     ]
    }
   ],
   "source": [
    "train_generator = train_datagen.flow_from_directory(\n",
    "    data_dir,\n",
    "    target_size=(img_height, img_width),\n",
    "    batch_size=batch_size,\n",
    "    class_mode=\"categorical\",\n",
    "    subset=\"training\",\n",
    "    shuffle=True,\n",
    "    seed=42,\n",
    ")\n",
    "\n",
    "test_generator = test_datagen.flow_from_directory(\n",
    "    data_dir,\n",
    "    target_size=(img_height, img_width),\n",
    "    batch_size=batch_size,\n",
    "    class_mode=\"categorical\",\n",
    "    subset=\"validation\",\n",
    "    shuffle=False,\n",
    "    seed=42,\n",
    ")"
   ]
  },
  {
   "cell_type": "markdown",
   "metadata": {},
   "source": [
    "### Load pre-trained VGG16 without top layers"
   ]
  },
  {
   "cell_type": "code",
   "execution_count": 6,
   "metadata": {},
   "outputs": [
    {
     "name": "stderr",
     "output_type": "stream",
     "text": [
      "2023-12-12 02:35:59.809494: W tensorflow/core/common_runtime/gpu/gpu_device.cc:1960] Cannot dlopen some GPU libraries. Please make sure the missing libraries mentioned above are installed properly if you would like to use GPU. Follow the guide at https://www.tensorflow.org/install/gpu for how to download and setup the required libraries for your platform.\n",
      "Skipping registering GPU devices...\n"
     ]
    }
   ],
   "source": [
    "base_model = VGG16(weights='imagenet', include_top=False,\n",
    "                   input_shape=(img_height, img_width, 3))"
   ]
  },
  {
   "cell_type": "markdown",
   "metadata": {},
   "source": [
    "### Add custom classification layers"
   ]
  },
  {
   "cell_type": "code",
   "execution_count": 7,
   "metadata": {},
   "outputs": [],
   "source": [
    "x = base_model.output\n",
    "x = GlobalAveragePooling2D()(x)\n",
    "x = BatchNormalization()(x)\n",
    "x = Dropout(0.5)(x)\n",
    "x = Dense(1024, activation=\"relu\", kernel_regularizer=l2(0.001))(x)\n",
    "x = BatchNormalization()(x)\n",
    "x = Dropout(0.5)(x)\n",
    "x = Dense(1024, activation=\"relu\", kernel_regularizer=l2(0.001))(x)\n",
    "predictions = Dense(num_classes, activation='linear',\n",
    "                    kernel_regularizer=l2(0.003))(x)"
   ]
  },
  {
   "cell_type": "markdown",
   "metadata": {},
   "source": [
    "### Create the model"
   ]
  },
  {
   "cell_type": "code",
   "execution_count": 8,
   "metadata": {},
   "outputs": [],
   "source": [
    "model = Model(inputs=base_model.input, outputs=predictions)"
   ]
  },
  {
   "cell_type": "markdown",
   "metadata": {},
   "source": [
    "### Fine Tune the layers"
   ]
  },
  {
   "cell_type": "code",
   "execution_count": 9,
   "metadata": {},
   "outputs": [],
   "source": [
    "for layer in model.layers:\n",
    "    layer.trainable = True"
   ]
  },
  {
   "cell_type": "markdown",
   "metadata": {},
   "source": [
    "### Compile the model"
   ]
  },
  {
   "cell_type": "code",
   "execution_count": 10,
   "metadata": {},
   "outputs": [],
   "source": [
    "model.compile(\n",
    "    optimizer=RMSprop(\n",
    "        learning_rate=1e-4,\n",
    "        rho=0.9,\n",
    "        momentum=0.0,\n",
    "        epsilon=1e-07,\n",
    "        centered=False,\n",
    "        name=\"RMSprop\",\n",
    "    ),\n",
    "    loss=CategoricalCrossentropy(from_logits=True),\n",
    "    metrics=[\"accuracy\"],\n",
    ")"
   ]
  },
  {
   "cell_type": "markdown",
   "metadata": {},
   "source": [
    "### Train the model"
   ]
  },
  {
   "cell_type": "code",
   "execution_count": 11,
   "metadata": {},
   "outputs": [
    {
     "name": "stdout",
     "output_type": "stream",
     "text": [
      "Epoch 1/50\n",
      "362/362 [==============================] - 467s 1s/step - loss: 7.6450 - accuracy: 0.0087 - val_loss: 15.2781 - val_accuracy: 0.0081\n",
      "Epoch 2/50\n",
      "362/362 [==============================] - 461s 1s/step - loss: 7.2457 - accuracy: 0.0109 - val_loss: 6.8840 - val_accuracy: 0.0208\n",
      "Epoch 3/50\n",
      "362/362 [==============================] - 469s 1s/step - loss: 7.0459 - accuracy: 0.0155 - val_loss: 9.0530 - val_accuracy: 0.0107\n",
      "Epoch 4/50\n",
      "362/362 [==============================] - 473s 1s/step - loss: 6.8638 - accuracy: 0.0202 - val_loss: 7.5157 - val_accuracy: 0.0193\n",
      "Epoch 5/50\n",
      "362/362 [==============================] - 473s 1s/step - loss: 6.7211 - accuracy: 0.0236 - val_loss: 6.8147 - val_accuracy: 0.0173\n",
      "Epoch 6/50\n",
      "362/362 [==============================] - 472s 1s/step - loss: 6.6523 - accuracy: 0.0263 - val_loss: 6.3406 - val_accuracy: 0.0376\n",
      "Epoch 7/50\n",
      "362/362 [==============================] - 472s 1s/step - loss: 6.5761 - accuracy: 0.0305 - val_loss: 6.1904 - val_accuracy: 0.0544\n",
      "Epoch 8/50\n",
      "362/362 [==============================] - 472s 1s/step - loss: 6.5136 - accuracy: 0.0387 - val_loss: 6.2416 - val_accuracy: 0.0676\n",
      "Epoch 9/50\n",
      "362/362 [==============================] - 472s 1s/step - loss: 6.4096 - accuracy: 0.0463 - val_loss: 6.5541 - val_accuracy: 0.0524\n",
      "Epoch 10/50\n",
      "362/362 [==============================] - 472s 1s/step - loss: 6.3326 - accuracy: 0.0614 - val_loss: 5.7434 - val_accuracy: 0.1347\n",
      "Epoch 11/50\n",
      "362/362 [==============================] - 473s 1s/step - loss: 6.2595 - accuracy: 0.0772 - val_loss: 5.8538 - val_accuracy: 0.1337\n",
      "Epoch 12/50\n",
      "362/362 [==============================] - 473s 1s/step - loss: 6.1947 - accuracy: 0.1022 - val_loss: 5.6042 - val_accuracy: 0.2008\n",
      "Epoch 13/50\n",
      "362/362 [==============================] - 473s 1s/step - loss: 6.1197 - accuracy: 0.1270 - val_loss: 7.5949 - val_accuracy: 0.0691\n",
      "Epoch 14/50\n",
      "362/362 [==============================] - 472s 1s/step - loss: 6.0627 - accuracy: 0.1516 - val_loss: 6.1894 - val_accuracy: 0.1612\n",
      "Epoch 15/50\n",
      "362/362 [==============================] - 472s 1s/step - loss: 5.9905 - accuracy: 0.1803 - val_loss: 6.1133 - val_accuracy: 0.1698\n",
      "Epoch 16/50\n",
      "362/362 [==============================] - 472s 1s/step - loss: 5.9264 - accuracy: 0.2103 - val_loss: 6.2334 - val_accuracy: 0.1723\n",
      "Epoch 17/50\n",
      "362/362 [==============================] - 472s 1s/step - loss: 5.8625 - accuracy: 0.2397 - val_loss: 5.7764 - val_accuracy: 0.2496\n",
      "Epoch 18/50\n",
      "362/362 [==============================] - 471s 1s/step - loss: 5.8131 - accuracy: 0.2607 - val_loss: 6.4250 - val_accuracy: 0.2095\n",
      "Epoch 19/50\n",
      "362/362 [==============================] - 472s 1s/step - loss: 5.7320 - accuracy: 0.2950 - val_loss: 6.2345 - val_accuracy: 0.2405\n",
      "Epoch 20/50\n",
      "362/362 [==============================] - 472s 1s/step - loss: 5.6861 - accuracy: 0.3261 - val_loss: 5.7595 - val_accuracy: 0.3320\n",
      "Epoch 21/50\n",
      "362/362 [==============================] - 472s 1s/step - loss: 5.6420 - accuracy: 0.3524 - val_loss: 5.5338 - val_accuracy: 0.3976\n",
      "Epoch 22/50\n",
      "362/362 [==============================] - 473s 1s/step - loss: 5.5812 - accuracy: 0.3791 - val_loss: 6.1211 - val_accuracy: 0.3055\n",
      "Epoch 23/50\n",
      "362/362 [==============================] - 472s 1s/step - loss: 5.5260 - accuracy: 0.4055 - val_loss: 7.1322 - val_accuracy: 0.2095\n",
      "Epoch 24/50\n",
      "362/362 [==============================] - 473s 1s/step - loss: 5.4594 - accuracy: 0.4346 - val_loss: 5.2985 - val_accuracy: 0.4677\n",
      "Epoch 25/50\n",
      "362/362 [==============================] - 473s 1s/step - loss: 5.4164 - accuracy: 0.4556 - val_loss: 6.3548 - val_accuracy: 0.3050\n",
      "Epoch 26/50\n",
      "362/362 [==============================] - 472s 1s/step - loss: 5.3480 - accuracy: 0.4851 - val_loss: 5.6695 - val_accuracy: 0.4169\n",
      "Epoch 27/50\n",
      "362/362 [==============================] - 472s 1s/step - loss: 5.2985 - accuracy: 0.5059 - val_loss: 5.9837 - val_accuracy: 0.3711\n",
      "Epoch 28/50\n",
      "362/362 [==============================] - 473s 1s/step - loss: 5.2424 - accuracy: 0.5268 - val_loss: 5.8829 - val_accuracy: 0.3899\n",
      "Epoch 29/50\n",
      "362/362 [==============================] - 472s 1s/step - loss: 5.1911 - accuracy: 0.5456 - val_loss: 5.7388 - val_accuracy: 0.4316\n",
      "Epoch 30/50\n",
      "362/362 [==============================] - 483s 1s/step - loss: 5.1165 - accuracy: 0.5710 - val_loss: 5.1466 - val_accuracy: 0.5531\n",
      "Epoch 31/50\n",
      "362/362 [==============================] - 472s 1s/step - loss: 5.0379 - accuracy: 0.5913 - val_loss: 5.5492 - val_accuracy: 0.4809\n",
      "Epoch 32/50\n",
      "362/362 [==============================] - 472s 1s/step - loss: 4.9865 - accuracy: 0.6061 - val_loss: 5.5278 - val_accuracy: 0.4865\n",
      "Epoch 33/50\n",
      "362/362 [==============================] - 471s 1s/step - loss: 4.9404 - accuracy: 0.6146 - val_loss: 5.1931 - val_accuracy: 0.5465\n",
      "Epoch 34/50\n",
      "362/362 [==============================] - 472s 1s/step - loss: 4.8630 - accuracy: 0.6383 - val_loss: 5.1036 - val_accuracy: 0.5775\n",
      "Epoch 35/50\n",
      "362/362 [==============================] - 472s 1s/step - loss: 4.8245 - accuracy: 0.6505 - val_loss: 5.0181 - val_accuracy: 0.5938\n",
      "Epoch 36/50\n",
      "362/362 [==============================] - 471s 1s/step - loss: 4.7495 - accuracy: 0.6652 - val_loss: 4.9132 - val_accuracy: 0.6106\n",
      "Epoch 37/50\n",
      "362/362 [==============================] - 472s 1s/step - loss: 4.6907 - accuracy: 0.6797 - val_loss: 5.7097 - val_accuracy: 0.4382\n",
      "Epoch 38/50\n",
      "362/362 [==============================] - 472s 1s/step - loss: 4.6225 - accuracy: 0.6892 - val_loss: 5.6825 - val_accuracy: 0.4555\n",
      "Epoch 39/50\n",
      "362/362 [==============================] - 472s 1s/step - loss: 4.5512 - accuracy: 0.7011 - val_loss: 4.7128 - val_accuracy: 0.6645\n",
      "Epoch 40/50\n",
      "362/362 [==============================] - 472s 1s/step - loss: 4.4780 - accuracy: 0.7133 - val_loss: 5.3998 - val_accuracy: 0.4987\n",
      "Epoch 41/50\n",
      "362/362 [==============================] - 473s 1s/step - loss: 4.4389 - accuracy: 0.7179 - val_loss: 4.7391 - val_accuracy: 0.6309\n",
      "Epoch 42/50\n",
      "362/362 [==============================] - 476s 1s/step - loss: 4.3417 - accuracy: 0.7327 - val_loss: 5.0573 - val_accuracy: 0.5384\n",
      "Epoch 43/50\n",
      "362/362 [==============================] - 473s 1s/step - loss: 4.2691 - accuracy: 0.7417 - val_loss: 4.4760 - val_accuracy: 0.6838\n",
      "Epoch 44/50\n",
      "362/362 [==============================] - 475s 1s/step - loss: 4.1736 - accuracy: 0.7532 - val_loss: 5.3466 - val_accuracy: 0.4860\n",
      "Epoch 45/50\n",
      "362/362 [==============================] - 474s 1s/step - loss: 4.1128 - accuracy: 0.7585 - val_loss: 4.6116 - val_accuracy: 0.6390\n",
      "Epoch 46/50\n",
      "362/362 [==============================] - 474s 1s/step - loss: 4.0411 - accuracy: 0.7642 - val_loss: 4.2781 - val_accuracy: 0.6894\n",
      "Epoch 47/50\n",
      "362/362 [==============================] - 474s 1s/step - loss: 3.9659 - accuracy: 0.7717 - val_loss: 4.3885 - val_accuracy: 0.6446\n",
      "Epoch 48/50\n",
      "362/362 [==============================] - 473s 1s/step - loss: 3.8675 - accuracy: 0.7865 - val_loss: 4.4505 - val_accuracy: 0.6441\n",
      "Epoch 49/50\n",
      "362/362 [==============================] - 473s 1s/step - loss: 3.8172 - accuracy: 0.7852 - val_loss: 4.1203 - val_accuracy: 0.7006\n",
      "Epoch 50/50\n",
      "362/362 [==============================] - 473s 1s/step - loss: 3.7409 - accuracy: 0.7942 - val_loss: 4.1687 - val_accuracy: 0.6690\n"
     ]
    }
   ],
   "source": [
    "history = model.fit(train_generator, epochs=50, validation_data=test_generator)"
   ]
  },
  {
   "cell_type": "markdown",
   "metadata": {},
   "source": [
    "### Evaluate model on training set"
   ]
  },
  {
   "cell_type": "code",
   "execution_count": 12,
   "metadata": {},
   "outputs": [
    {
     "name": "stdout",
     "output_type": "stream",
     "text": [
      "362/362 [==============================] - 150s 413ms/step - loss: 3.7205 - accuracy: 0.7786\n",
      "Training accuracy: 0.7786239981651306\n"
     ]
    }
   ],
   "source": [
    "train_loss, train_accuracy = model.evaluate(train_generator)\n",
    "print(f\"Training accuracy: {train_accuracy}\")"
   ]
  },
  {
   "cell_type": "markdown",
   "metadata": {},
   "source": [
    "### Evaluate model on testing set"
   ]
  },
  {
   "cell_type": "code",
   "execution_count": 13,
   "metadata": {},
   "outputs": [
    {
     "name": "stdout",
     "output_type": "stream",
     "text": [
      "62/62 [==============================] - 24s 382ms/step - loss: 4.1687 - accuracy: 0.6690\n",
      "Testing accuracy: 0.6690391302108765\n"
     ]
    }
   ],
   "source": [
    "test_loss, test_accuracy = model.evaluate(test_generator)\n",
    "print(f\"Testing accuracy: {test_accuracy}\")"
   ]
  },
  {
   "cell_type": "markdown",
   "metadata": {},
   "source": [
    "### Save the model"
   ]
  },
  {
   "cell_type": "code",
   "execution_count": 14,
   "metadata": {},
   "outputs": [
    {
     "name": "stderr",
     "output_type": "stream",
     "text": [
      "/usr/local/lib/python3.10/dist-packages/keras/src/engine/training.py:3000: UserWarning: You are saving your model as an HDF5 file via `model.save()`. This file format is considered legacy. We recommend using instead the native Keras format, e.g. `model.save('my_model.keras')`.\n",
      "  saving_api.save_model(\n"
     ]
    }
   ],
   "source": [
    "model.save('VGG16.h5')"
   ]
  },
  {
   "cell_type": "markdown",
   "metadata": {},
   "source": [
    "### Model Summary"
   ]
  },
  {
   "cell_type": "code",
   "execution_count": 15,
   "metadata": {},
   "outputs": [
    {
     "name": "stdout",
     "output_type": "stream",
     "text": [
      "Model: \"model\"\n",
      "_________________________________________________________________\n",
      " Layer (type)                Output Shape              Param #   \n",
      "=================================================================\n",
      " input_1 (InputLayer)        [(None, 128, 128, 3)]     0         \n",
      "                                                                 \n",
      " block1_conv1 (Conv2D)       (None, 128, 128, 64)      1792      \n",
      "                                                                 \n",
      " block1_conv2 (Conv2D)       (None, 128, 128, 64)      36928     \n",
      "                                                                 \n",
      " block1_pool (MaxPooling2D)  (None, 64, 64, 64)        0         \n",
      "                                                                 \n",
      " block2_conv1 (Conv2D)       (None, 64, 64, 128)       73856     \n",
      "                                                                 \n",
      " block2_conv2 (Conv2D)       (None, 64, 64, 128)       147584    \n",
      "                                                                 \n",
      " block2_pool (MaxPooling2D)  (None, 32, 32, 128)       0         \n",
      "                                                                 \n",
      " block3_conv1 (Conv2D)       (None, 32, 32, 256)       295168    \n",
      "                                                                 \n",
      " block3_conv2 (Conv2D)       (None, 32, 32, 256)       590080    \n",
      "                                                                 \n",
      " block3_conv3 (Conv2D)       (None, 32, 32, 256)       590080    \n",
      "                                                                 \n",
      " block3_pool (MaxPooling2D)  (None, 16, 16, 256)       0         \n",
      "                                                                 \n",
      " block4_conv1 (Conv2D)       (None, 16, 16, 512)       1180160   \n",
      "                                                                 \n",
      " block4_conv2 (Conv2D)       (None, 16, 16, 512)       2359808   \n",
      "                                                                 \n",
      " block4_conv3 (Conv2D)       (None, 16, 16, 512)       2359808   \n",
      "                                                                 \n",
      " block4_pool (MaxPooling2D)  (None, 8, 8, 512)         0         \n",
      "                                                                 \n",
      " block5_conv1 (Conv2D)       (None, 8, 8, 512)         2359808   \n",
      "                                                                 \n",
      " block5_conv2 (Conv2D)       (None, 8, 8, 512)         2359808   \n",
      "                                                                 \n",
      " block5_conv3 (Conv2D)       (None, 8, 8, 512)         2359808   \n",
      "                                                                 \n",
      " block5_pool (MaxPooling2D)  (None, 4, 4, 512)         0         \n",
      "                                                                 \n",
      " global_average_pooling2d (  (None, 512)               0         \n",
      " GlobalAveragePooling2D)                                         \n",
      "                                                                 \n",
      " batch_normalization (Batch  (None, 512)               2048      \n",
      " Normalization)                                                  \n",
      "                                                                 \n",
      " dropout (Dropout)           (None, 512)               0         \n",
      "                                                                 \n",
      " dense (Dense)               (None, 1024)              525312    \n",
      "                                                                 \n",
      " batch_normalization_1 (Bat  (None, 1024)              4096      \n",
      " chNormalization)                                                \n",
      "                                                                 \n",
      " dropout_1 (Dropout)         (None, 1024)              0         \n",
      "                                                                 \n",
      " dense_1 (Dense)             (None, 1024)              1049600   \n",
      "                                                                 \n",
      " dense_2 (Dense)             (None, 124)               127100    \n",
      "                                                                 \n",
      "=================================================================\n",
      "Total params: 16422844 (62.65 MB)\n",
      "Trainable params: 16419772 (62.64 MB)\n",
      "Non-trainable params: 3072 (12.00 KB)\n",
      "_________________________________________________________________\n"
     ]
    }
   ],
   "source": [
    "model.summary()"
   ]
  },
  {
   "cell_type": "markdown",
   "metadata": {},
   "source": [
    "### Plot Training & Validation Accuracy"
   ]
  },
  {
   "cell_type": "code",
   "execution_count": 18,
   "metadata": {},
   "outputs": [
    {
     "data": {
      "image/png": "[encoded data removed]",
      "text/plain": [
       "<Figure size 640x480 with 1 Axes>"
      ]
     },
     "metadata": {},
     "output_type": "display_data"
    }
   ],
   "source": [
    "plt.plot(history.history['accuracy'], color='blue', label='Training Accuracy')\n",
    "plt.plot(history.history['val_accuracy'],\n",
    "         color='red', label='Testing Accuracy')\n",
    "plt.title('Model Accuracy')\n",
    "plt.xlabel('Epoch')\n",
    "plt.ylabel('Accuracy')\n",
    "plt.legend()\n",
    "plt.show()"
   ]
  },
  {
   "cell_type": "markdown",
   "metadata": {},
   "source": [
    "### Plot Training and Validation Loss"
   ]
  },
  {
   "cell_type": "code",
   "execution_count": 19,
   "metadata": {},
   "outputs": [
    {
     "data": {
      "image/png": "[encoded data removed]",
      "text/plain": [
       "<Figure size 640x480 with 1 Axes>"
      ]
     },
     "metadata": {},
     "output_type": "display_data"
    }
   ],
   "source": [
    "plt.plot(history.history['loss'], color='blue', label='Training Loss')\n",
    "plt.plot(history.history['val_loss'],\n",
    "         color='red', label='Testing Loss')\n",
    "plt.title('Model Loss')\n",
    "plt.xlabel('Epoch')\n",
    "plt.ylabel('Loss')\n",
    "plt.legend()\n",
    "plt.show()"
   ]
  }
 ],
 "metadata": {
  "kernelspec": {
   "display_name": "Python 3",
   "language": "python",
   "name": "python3"
  },
  "language_info": {
   "codemirror_mode": {
    "name": "ipython",
    "version": 3
   },
   "file_extension": ".py",
   "mimetype": "text/x-python",
   "name": "python",
   "nbconvert_exporter": "python",
   "pygments_lexer": "ipython3",
   "version": "3.10.12"
  }
 },
 "nbformat": 4,
 "nbformat_minor": 2
}
